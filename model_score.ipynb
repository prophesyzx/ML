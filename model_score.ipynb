{
 "cells": [
  {
   "cell_type": "code",
   "execution_count": 1,
   "id": "b12e06f7-aed5-4023-9b5f-e9ca00916f62",
   "metadata": {},
   "outputs": [
    {
     "name": "stderr",
     "output_type": "stream",
     "text": [
      "D:\\anaconda3\\Lib\\site-packages\\dask\\dataframe\\_pyarrow_compat.py:17: FutureWarning: Minimal version of pyarrow will soon be increased to 14.0.1. You are using 11.0.0. Please consider upgrading.\n",
      "  warnings.warn(\n"
     ]
    }
   ],
   "source": [
    "from tqdm import tqdm\n",
    "import resampy\n",
    "import os\n",
    "import sklearn.preprocessing\n",
    "import pandas as pd\n",
    "import numpy as np\n",
    "import matplotlib.pyplot as plt\n",
    "%matplotlib inline\n",
    "import seaborn as sns\n",
    "from sklearn.model_selection import train_test_split\n",
    "from sklearn.metrics import classification_report\n",
    "from sklearn.metrics import accuracy_score\n",
    "from sklearn.model_selection import StratifiedKFold\n",
    "from sklearn.naive_bayes import GaussianNB\n",
    "from sklearn.ensemble import RandomForestClassifier\n",
    "from sklearn.ensemble import AdaBoostClassifier\n",
    "from sklearn.svm import SVC\n",
    "from sklearn.neighbors import KNeighborsClassifier\n",
    "from sklearn.discriminant_analysis import LinearDiscriminantAnalysis\n",
    "from tensorflow.keras.models import Sequential\n",
    "from tensorflow.keras.layers import Conv2D, Flatten, Dense, MaxPool2D, Dropout\n",
    "from tensorflow.keras.utils import to_categorical \n",
    "import tensorflow as tf\n",
    "import tensorflow.keras\n",
    "import lightgbm as lgb"
   ]
  },
  {
   "cell_type": "markdown",
   "id": "d23428b3-6ee1-4d2d-9b6e-ac50efb1e1ad",
   "metadata": {},
   "source": [
    "## 读取数据"
   ]
  },
  {
   "cell_type": "code",
   "execution_count": 2,
   "id": "b05744ce-3860-4a5d-ab49-e9a6d9c94eb6",
   "metadata": {},
   "outputs": [],
   "source": [
    "X = np.load(\"X.npy\")\n",
    "Y = np.load(\"Y.npy\")"
   ]
  },
  {
   "cell_type": "code",
   "execution_count": 3,
   "id": "510eada3-c0fe-429c-81c2-7d016595488e",
   "metadata": {},
   "outputs": [],
   "source": [
    "# X_train即train_x，训练集的输入，其他类似 random_state 都设置为2024\n",
    "X_train_valid, X_test, Y_train_valid, Y_test = train_test_split(X, Y, random_state = 2024, test_size=0.2,stratify=Y)"
   ]
  },
  {
   "cell_type": "code",
   "execution_count": 4,
   "id": "1d022c7c-1894-4c77-a532-fbd97bbeb29e",
   "metadata": {},
   "outputs": [],
   "source": [
    "X_train,X_valid, Y_train,Y_valid = train_test_split(X_train_valid, Y_train_valid, random_state = 2024, test_size=0.25,stratify=Y_train_valid)"
   ]
  },
  {
   "cell_type": "code",
   "execution_count": 5,
   "id": "f2a7564c-b59a-46a8-9211-ab0c2d2f8442",
   "metadata": {},
   "outputs": [
    {
     "data": {
      "text/plain": [
       "((6684, 128), (6684,))"
      ]
     },
     "execution_count": 5,
     "metadata": {},
     "output_type": "execute_result"
    }
   ],
   "source": [
    "X_train.shape,Y_train.shape"
   ]
  },
  {
   "cell_type": "code",
   "execution_count": 6,
   "id": "f5bcb361-fd5f-40f7-8abf-d0ca7850082d",
   "metadata": {},
   "outputs": [
    {
     "data": {
      "text/plain": [
       "((2228, 128), (2228,))"
      ]
     },
     "execution_count": 6,
     "metadata": {},
     "output_type": "execute_result"
    }
   ],
   "source": [
    "X_valid.shape,Y_valid.shape"
   ]
  },
  {
   "cell_type": "code",
   "execution_count": 7,
   "id": "747fb9a9-2543-4795-8861-0f96fc53e6ee",
   "metadata": {},
   "outputs": [
    {
     "data": {
      "text/plain": [
       "((2228, 128), (2228,))"
      ]
     },
     "execution_count": 7,
     "metadata": {},
     "output_type": "execute_result"
    }
   ],
   "source": [
    "X_test.shape,Y_test.shape"
   ]
  },
  {
   "cell_type": "markdown",
   "id": "eda7aed7-8824-42f5-8a90-7ea72c1fd3da",
   "metadata": {},
   "source": [
    "## LightGbm"
   ]
  },
  {
   "cell_type": "code",
   "execution_count": 8,
   "id": "1bfe457b-9620-41a6-a6e5-f6615730b880",
   "metadata": {},
   "outputs": [],
   "source": [
    "# lightgbm模型 \n",
    "# 返回预测结果（以概率的形式）和训练集十折训练在测试集上的准确率列表\n",
    "def lgb_model(train_x, train_y, test_x):\n",
    "    import lightgbm as lgb\n",
    "    folds = 10\n",
    "    # 10折交叉验证\n",
    "    kf = StratifiedKFold(n_splits=folds, shuffle=True, random_state=2023)\n",
    "    # \n",
    "    predictions = np.zeros((test_x.shape[0],20))\n",
    "    cv_scores = []\n",
    "    for i, (train_index, valid_index) in enumerate(kf.split(train_x, train_y)):\n",
    "        #print('it {} / 10 '.format(str(i+1)))\n",
    "        train_sub_x, train_sub_y = train_x[train_index], train_y[train_index]\n",
    "        valid_sub_x, valid_sub_y = train_x[valid_index], train_y[valid_index]\n",
    "        train_matrix = lgb.Dataset(train_sub_x, label=train_sub_y)\n",
    "        valid_matrix = lgb.Dataset(valid_sub_x, label=valid_sub_y)\n",
    "        params = {\n",
    "            'boosting_type': 'gbdt',\n",
    "            'objective': 'multiclass',\n",
    "            'metric': 'multi_error',\n",
    "            'min_child_weight': 5,\n",
    "            'num_leaves': 2 ** 4,\n",
    "            'lambda_l2': 13,\n",
    "            'feature_fraction': 0.6,\n",
    "            'bagging_fraction': 0.7,\n",
    "            'bagging_freq': 2,\n",
    "            'learning_rate': 0.1,\n",
    "            'seed': 2023,\n",
    "            'nthread': 24,\n",
    "            'n_jobs':24,\n",
    "            'silent': True,\n",
    "            'verbose': -1,\n",
    "            'num_class':20,\n",
    "        } # 模型参数\n",
    "        model = lgb.train(params, \n",
    "                          train_matrix, 50000, \n",
    "                          valid_sets=[train_matrix, valid_matrix], \n",
    "                          verbose_eval=200,\n",
    "                          early_stopping_rounds=200,\n",
    "                         )\n",
    "        # model.save_model(\"lgb_model_\"+str(i)+\".txt\")\n",
    "        valid_pred = model.predict(valid_sub_x, num_iteration=model.best_iteration)\n",
    "        test_pred = model.predict(test_x, num_iteration=model.best_iteration)\n",
    "        # 十折平均投票确定预测值\n",
    "        predictions += test_pred / kf.n_splits\n",
    "        valid_score = accuracy_score(valid_sub_y, np.argmax(valid_pred, axis=1))\n",
    "        cv_scores.append(valid_score)\n",
    "        # 保存最佳模型\n",
    "        if not os.path.exists(\"lgb_best_config.txt\"):\n",
    "            model.save_model(\"lgb_best_config.txt\")\n",
    "        else:\n",
    "            if cv_scores[i] > cv_scores[i - 1]:\n",
    "                model.save_model(\"lgb_best_config.txt\")\n",
    "    #print(cv_scores)\n",
    "    #print(np.mean(cv_scores))\n",
    "    #print(np.std(cv_scores))\n",
    "    return predictions,cv_scores"
   ]
  },
  {
   "cell_type": "code",
   "execution_count": 9,
   "id": "a23ea148-488b-42f4-9251-a4940c3c81de",
   "metadata": {},
   "outputs": [],
   "source": [
    "# 可视化函数 可以选择使用或不使用\n",
    "from pyecharts.charts import Line\n",
    "import pyecharts.options as opts\n",
    "def show(scores):\n",
    "    columns = [\"第{}次\".format(i) for i in range(1,len(scores)+1)]\n",
    "    l = (\n",
    "        Line()\n",
    "        .add_xaxis(columns)\n",
    "        .add_yaxis(\"准确度\", \n",
    "                   ['{:.4f}'.format(i) for i in scores],\n",
    "                   markline_opts=opts.MarkLineOpts(data=[opts.MarkLineItem(type_='average')]),\n",
    "                  )\n",
    "        .set_global_opts(title_opts=opts.TitleOpts(title=\"LGB模型在训练集上10折验证的表现\"),\n",
    "                        yaxis_opts=opts.AxisOpts( min_='dataMin'),\n",
    "                        )\n",
    "    )\n",
    "    l.render(\"LGB.html\")"
   ]
  },
  {
   "cell_type": "code",
   "execution_count": 10,
   "id": "425c6e5a-7b13-4cd5-8d2c-f0c8b3817cf5",
   "metadata": {
    "scrolled": true
   },
   "outputs": [
    {
     "name": "stderr",
     "output_type": "stream",
     "text": [
      "D:\\anaconda3\\Lib\\site-packages\\lightgbm\\engine.py:181: UserWarning: 'early_stopping_rounds' argument is deprecated and will be removed in a future release of LightGBM. Pass 'early_stopping()' callback via 'callbacks' argument instead.\n",
      "  _log_warning(\"'early_stopping_rounds' argument is deprecated and will be removed in a future release of LightGBM. \"\n",
      "D:\\anaconda3\\Lib\\site-packages\\lightgbm\\engine.py:240: UserWarning: 'verbose_eval' argument is deprecated and will be removed in a future release of LightGBM. Pass 'log_evaluation()' callback via 'callbacks' argument instead.\n",
      "  _log_warning(\"'verbose_eval' argument is deprecated and will be removed in a future release of LightGBM. \"\n",
      "D:\\anaconda3\\Lib\\site-packages\\lightgbm\\basic.py:1487: UserWarning: silent keyword has been found in `params` and will be ignored.\n",
      "Please use silent argument of the Dataset constructor to pass this parameter.\n",
      "  _log_warning(f'{key} keyword has been found in `params` and will be ignored.\\n'\n"
     ]
    },
    {
     "name": "stdout",
     "output_type": "stream",
     "text": [
      "[LightGBM] [Warning] num_threads is set with nthread=24, will be overridden by n_jobs=24. Current value: num_threads=24\n",
      "[LightGBM] [Warning] Unknown parameter: silent\n",
      "Training until validation scores don't improve for 200 rounds\n",
      "[200]\ttraining's multi_error: 0.00315877\tvalid_1's multi_error: 0.258595\n",
      "[400]\ttraining's multi_error: 0\tvalid_1's multi_error: 0.248132\n",
      "Early stopping, best iteration is:\n",
      "[261]\ttraining's multi_error: 0.00133001\tvalid_1's multi_error: 0.245142\n"
     ]
    },
    {
     "name": "stderr",
     "output_type": "stream",
     "text": [
      "D:\\anaconda3\\Lib\\site-packages\\lightgbm\\engine.py:181: UserWarning: 'early_stopping_rounds' argument is deprecated and will be removed in a future release of LightGBM. Pass 'early_stopping()' callback via 'callbacks' argument instead.\n",
      "  _log_warning(\"'early_stopping_rounds' argument is deprecated and will be removed in a future release of LightGBM. \"\n",
      "D:\\anaconda3\\Lib\\site-packages\\lightgbm\\engine.py:240: UserWarning: 'verbose_eval' argument is deprecated and will be removed in a future release of LightGBM. Pass 'log_evaluation()' callback via 'callbacks' argument instead.\n",
      "  _log_warning(\"'verbose_eval' argument is deprecated and will be removed in a future release of LightGBM. \"\n",
      "D:\\anaconda3\\Lib\\site-packages\\lightgbm\\basic.py:1487: UserWarning: silent keyword has been found in `params` and will be ignored.\n",
      "Please use silent argument of the Dataset constructor to pass this parameter.\n",
      "  _log_warning(f'{key} keyword has been found in `params` and will be ignored.\\n'\n"
     ]
    },
    {
     "name": "stdout",
     "output_type": "stream",
     "text": [
      "[LightGBM] [Warning] num_threads is set with nthread=24, will be overridden by n_jobs=24. Current value: num_threads=24\n",
      "[LightGBM] [Warning] Unknown parameter: silent\n",
      "Training until validation scores don't improve for 200 rounds\n",
      "[200]\ttraining's multi_error: 0.00548628\tvalid_1's multi_error: 0.295964\n",
      "[400]\ttraining's multi_error: 0.000997506\tvalid_1's multi_error: 0.278027\n",
      "Early stopping, best iteration is:\n",
      "[310]\ttraining's multi_error: 0.00149626\tvalid_1's multi_error: 0.275037\n"
     ]
    },
    {
     "name": "stderr",
     "output_type": "stream",
     "text": [
      "D:\\anaconda3\\Lib\\site-packages\\lightgbm\\engine.py:181: UserWarning: 'early_stopping_rounds' argument is deprecated and will be removed in a future release of LightGBM. Pass 'early_stopping()' callback via 'callbacks' argument instead.\n",
      "  _log_warning(\"'early_stopping_rounds' argument is deprecated and will be removed in a future release of LightGBM. \"\n",
      "D:\\anaconda3\\Lib\\site-packages\\lightgbm\\engine.py:240: UserWarning: 'verbose_eval' argument is deprecated and will be removed in a future release of LightGBM. Pass 'log_evaluation()' callback via 'callbacks' argument instead.\n",
      "  _log_warning(\"'verbose_eval' argument is deprecated and will be removed in a future release of LightGBM. \"\n",
      "D:\\anaconda3\\Lib\\site-packages\\lightgbm\\basic.py:1487: UserWarning: silent keyword has been found in `params` and will be ignored.\n",
      "Please use silent argument of the Dataset constructor to pass this parameter.\n",
      "  _log_warning(f'{key} keyword has been found in `params` and will be ignored.\\n'\n"
     ]
    },
    {
     "name": "stdout",
     "output_type": "stream",
     "text": [
      "[LightGBM] [Warning] num_threads is set with nthread=24, will be overridden by n_jobs=24. Current value: num_threads=24\n",
      "[LightGBM] [Warning] Unknown parameter: silent\n",
      "Training until validation scores don't improve for 200 rounds\n",
      "[200]\ttraining's multi_error: 0.00382377\tvalid_1's multi_error: 0.2571\n",
      "[400]\ttraining's multi_error: 0.000665004\tvalid_1's multi_error: 0.249626\n",
      "[600]\ttraining's multi_error: 0\tvalid_1's multi_error: 0.251121\n",
      "Early stopping, best iteration is:\n",
      "[514]\ttraining's multi_error: 0.000166251\tvalid_1's multi_error: 0.239163\n"
     ]
    },
    {
     "name": "stderr",
     "output_type": "stream",
     "text": [
      "D:\\anaconda3\\Lib\\site-packages\\lightgbm\\engine.py:181: UserWarning: 'early_stopping_rounds' argument is deprecated and will be removed in a future release of LightGBM. Pass 'early_stopping()' callback via 'callbacks' argument instead.\n",
      "  _log_warning(\"'early_stopping_rounds' argument is deprecated and will be removed in a future release of LightGBM. \"\n",
      "D:\\anaconda3\\Lib\\site-packages\\lightgbm\\engine.py:240: UserWarning: 'verbose_eval' argument is deprecated and will be removed in a future release of LightGBM. Pass 'log_evaluation()' callback via 'callbacks' argument instead.\n",
      "  _log_warning(\"'verbose_eval' argument is deprecated and will be removed in a future release of LightGBM. \"\n",
      "D:\\anaconda3\\Lib\\site-packages\\lightgbm\\basic.py:1487: UserWarning: silent keyword has been found in `params` and will be ignored.\n",
      "Please use silent argument of the Dataset constructor to pass this parameter.\n",
      "  _log_warning(f'{key} keyword has been found in `params` and will be ignored.\\n'\n"
     ]
    },
    {
     "name": "stdout",
     "output_type": "stream",
     "text": [
      "[LightGBM] [Warning] num_threads is set with nthread=24, will be overridden by n_jobs=24. Current value: num_threads=24\n",
      "[LightGBM] [Warning] Unknown parameter: silent\n",
      "Training until validation scores don't improve for 200 rounds\n",
      "[200]\ttraining's multi_error: 0.00465503\tvalid_1's multi_error: 0.261584\n",
      "[400]\ttraining's multi_error: 0.000498753\tvalid_1's multi_error: 0.264574\n",
      "Early stopping, best iteration is:\n",
      "[300]\ttraining's multi_error: 0.000997506\tvalid_1's multi_error: 0.251121\n"
     ]
    },
    {
     "name": "stderr",
     "output_type": "stream",
     "text": [
      "D:\\anaconda3\\Lib\\site-packages\\lightgbm\\engine.py:181: UserWarning: 'early_stopping_rounds' argument is deprecated and will be removed in a future release of LightGBM. Pass 'early_stopping()' callback via 'callbacks' argument instead.\n",
      "  _log_warning(\"'early_stopping_rounds' argument is deprecated and will be removed in a future release of LightGBM. \"\n",
      "D:\\anaconda3\\Lib\\site-packages\\lightgbm\\engine.py:240: UserWarning: 'verbose_eval' argument is deprecated and will be removed in a future release of LightGBM. Pass 'log_evaluation()' callback via 'callbacks' argument instead.\n",
      "  _log_warning(\"'verbose_eval' argument is deprecated and will be removed in a future release of LightGBM. \"\n",
      "D:\\anaconda3\\Lib\\site-packages\\lightgbm\\basic.py:1487: UserWarning: silent keyword has been found in `params` and will be ignored.\n",
      "Please use silent argument of the Dataset constructor to pass this parameter.\n",
      "  _log_warning(f'{key} keyword has been found in `params` and will be ignored.\\n'\n"
     ]
    },
    {
     "name": "stdout",
     "output_type": "stream",
     "text": [
      "[LightGBM] [Warning] num_threads is set with nthread=24, will be overridden by n_jobs=24. Current value: num_threads=24\n",
      "[LightGBM] [Warning] Unknown parameter: silent\n",
      "Training until validation scores don't improve for 200 rounds\n",
      "[200]\ttraining's multi_error: 0.00415559\tvalid_1's multi_error: 0.281437\n",
      "[400]\ttraining's multi_error: 0.000332447\tvalid_1's multi_error: 0.27994\n",
      "Early stopping, best iteration is:\n",
      "[342]\ttraining's multi_error: 0.000831117\tvalid_1's multi_error: 0.272455\n"
     ]
    },
    {
     "name": "stderr",
     "output_type": "stream",
     "text": [
      "D:\\anaconda3\\Lib\\site-packages\\lightgbm\\engine.py:181: UserWarning: 'early_stopping_rounds' argument is deprecated and will be removed in a future release of LightGBM. Pass 'early_stopping()' callback via 'callbacks' argument instead.\n",
      "  _log_warning(\"'early_stopping_rounds' argument is deprecated and will be removed in a future release of LightGBM. \"\n",
      "D:\\anaconda3\\Lib\\site-packages\\lightgbm\\engine.py:240: UserWarning: 'verbose_eval' argument is deprecated and will be removed in a future release of LightGBM. Pass 'log_evaluation()' callback via 'callbacks' argument instead.\n",
      "  _log_warning(\"'verbose_eval' argument is deprecated and will be removed in a future release of LightGBM. \"\n",
      "D:\\anaconda3\\Lib\\site-packages\\lightgbm\\basic.py:1487: UserWarning: silent keyword has been found in `params` and will be ignored.\n",
      "Please use silent argument of the Dataset constructor to pass this parameter.\n",
      "  _log_warning(f'{key} keyword has been found in `params` and will be ignored.\\n'\n"
     ]
    },
    {
     "name": "stdout",
     "output_type": "stream",
     "text": [
      "[LightGBM] [Warning] num_threads is set with nthread=24, will be overridden by n_jobs=24. Current value: num_threads=24\n",
      "[LightGBM] [Warning] Unknown parameter: silent\n",
      "Training until validation scores don't improve for 200 rounds\n",
      "[200]\ttraining's multi_error: 0.00415559\tvalid_1's multi_error: 0.278443\n",
      "[400]\ttraining's multi_error: 0.00049867\tvalid_1's multi_error: 0.261976\n",
      "Early stopping, best iteration is:\n",
      "[299]\ttraining's multi_error: 0.00116356\tvalid_1's multi_error: 0.252994\n"
     ]
    },
    {
     "name": "stderr",
     "output_type": "stream",
     "text": [
      "D:\\anaconda3\\Lib\\site-packages\\lightgbm\\engine.py:181: UserWarning: 'early_stopping_rounds' argument is deprecated and will be removed in a future release of LightGBM. Pass 'early_stopping()' callback via 'callbacks' argument instead.\n",
      "  _log_warning(\"'early_stopping_rounds' argument is deprecated and will be removed in a future release of LightGBM. \"\n",
      "D:\\anaconda3\\Lib\\site-packages\\lightgbm\\engine.py:240: UserWarning: 'verbose_eval' argument is deprecated and will be removed in a future release of LightGBM. Pass 'log_evaluation()' callback via 'callbacks' argument instead.\n",
      "  _log_warning(\"'verbose_eval' argument is deprecated and will be removed in a future release of LightGBM. \"\n",
      "D:\\anaconda3\\Lib\\site-packages\\lightgbm\\basic.py:1487: UserWarning: silent keyword has been found in `params` and will be ignored.\n",
      "Please use silent argument of the Dataset constructor to pass this parameter.\n",
      "  _log_warning(f'{key} keyword has been found in `params` and will be ignored.\\n'\n"
     ]
    },
    {
     "name": "stdout",
     "output_type": "stream",
     "text": [
      "[LightGBM] [Warning] num_threads is set with nthread=24, will be overridden by n_jobs=24. Current value: num_threads=24\n",
      "[LightGBM] [Warning] Unknown parameter: silent\n",
      "Training until validation scores don't improve for 200 rounds\n",
      "[200]\ttraining's multi_error: 0.00365691\tvalid_1's multi_error: 0.285928\n",
      "[400]\ttraining's multi_error: 0\tvalid_1's multi_error: 0.267964\n",
      "[600]\ttraining's multi_error: 0\tvalid_1's multi_error: 0.263473\n",
      "Early stopping, best iteration is:\n",
      "[482]\ttraining's multi_error: 0\tvalid_1's multi_error: 0.258982\n"
     ]
    },
    {
     "name": "stderr",
     "output_type": "stream",
     "text": [
      "D:\\anaconda3\\Lib\\site-packages\\lightgbm\\engine.py:181: UserWarning: 'early_stopping_rounds' argument is deprecated and will be removed in a future release of LightGBM. Pass 'early_stopping()' callback via 'callbacks' argument instead.\n",
      "  _log_warning(\"'early_stopping_rounds' argument is deprecated and will be removed in a future release of LightGBM. \"\n",
      "D:\\anaconda3\\Lib\\site-packages\\lightgbm\\engine.py:240: UserWarning: 'verbose_eval' argument is deprecated and will be removed in a future release of LightGBM. Pass 'log_evaluation()' callback via 'callbacks' argument instead.\n",
      "  _log_warning(\"'verbose_eval' argument is deprecated and will be removed in a future release of LightGBM. \"\n",
      "D:\\anaconda3\\Lib\\site-packages\\lightgbm\\basic.py:1487: UserWarning: silent keyword has been found in `params` and will be ignored.\n",
      "Please use silent argument of the Dataset constructor to pass this parameter.\n",
      "  _log_warning(f'{key} keyword has been found in `params` and will be ignored.\\n'\n"
     ]
    },
    {
     "name": "stdout",
     "output_type": "stream",
     "text": [
      "[LightGBM] [Warning] num_threads is set with nthread=24, will be overridden by n_jobs=24. Current value: num_threads=24\n",
      "[LightGBM] [Warning] Unknown parameter: silent\n",
      "Training until validation scores don't improve for 200 rounds\n",
      "[200]\ttraining's multi_error: 0.00432181\tvalid_1's multi_error: 0.252994\n",
      "Early stopping, best iteration is:\n",
      "[146]\ttraining's multi_error: 0.014129\tvalid_1's multi_error: 0.245509\n"
     ]
    },
    {
     "name": "stderr",
     "output_type": "stream",
     "text": [
      "D:\\anaconda3\\Lib\\site-packages\\lightgbm\\engine.py:181: UserWarning: 'early_stopping_rounds' argument is deprecated and will be removed in a future release of LightGBM. Pass 'early_stopping()' callback via 'callbacks' argument instead.\n",
      "  _log_warning(\"'early_stopping_rounds' argument is deprecated and will be removed in a future release of LightGBM. \"\n",
      "D:\\anaconda3\\Lib\\site-packages\\lightgbm\\engine.py:240: UserWarning: 'verbose_eval' argument is deprecated and will be removed in a future release of LightGBM. Pass 'log_evaluation()' callback via 'callbacks' argument instead.\n",
      "  _log_warning(\"'verbose_eval' argument is deprecated and will be removed in a future release of LightGBM. \"\n",
      "D:\\anaconda3\\Lib\\site-packages\\lightgbm\\basic.py:1487: UserWarning: silent keyword has been found in `params` and will be ignored.\n",
      "Please use silent argument of the Dataset constructor to pass this parameter.\n",
      "  _log_warning(f'{key} keyword has been found in `params` and will be ignored.\\n'\n"
     ]
    },
    {
     "name": "stdout",
     "output_type": "stream",
     "text": [
      "[LightGBM] [Warning] num_threads is set with nthread=24, will be overridden by n_jobs=24. Current value: num_threads=24\n",
      "[LightGBM] [Warning] Unknown parameter: silent\n",
      "Training until validation scores don't improve for 200 rounds\n",
      "[200]\ttraining's multi_error: 0.00465426\tvalid_1's multi_error: 0.287425\n",
      "[400]\ttraining's multi_error: 0.000166223\tvalid_1's multi_error: 0.276946\n",
      "Early stopping, best iteration is:\n",
      "[280]\ttraining's multi_error: 0.00166223\tvalid_1's multi_error: 0.267964\n"
     ]
    },
    {
     "name": "stderr",
     "output_type": "stream",
     "text": [
      "D:\\anaconda3\\Lib\\site-packages\\lightgbm\\engine.py:181: UserWarning: 'early_stopping_rounds' argument is deprecated and will be removed in a future release of LightGBM. Pass 'early_stopping()' callback via 'callbacks' argument instead.\n",
      "  _log_warning(\"'early_stopping_rounds' argument is deprecated and will be removed in a future release of LightGBM. \"\n",
      "D:\\anaconda3\\Lib\\site-packages\\lightgbm\\engine.py:240: UserWarning: 'verbose_eval' argument is deprecated and will be removed in a future release of LightGBM. Pass 'log_evaluation()' callback via 'callbacks' argument instead.\n",
      "  _log_warning(\"'verbose_eval' argument is deprecated and will be removed in a future release of LightGBM. \"\n",
      "D:\\anaconda3\\Lib\\site-packages\\lightgbm\\basic.py:1487: UserWarning: silent keyword has been found in `params` and will be ignored.\n",
      "Please use silent argument of the Dataset constructor to pass this parameter.\n",
      "  _log_warning(f'{key} keyword has been found in `params` and will be ignored.\\n'\n"
     ]
    },
    {
     "name": "stdout",
     "output_type": "stream",
     "text": [
      "[LightGBM] [Warning] num_threads is set with nthread=24, will be overridden by n_jobs=24. Current value: num_threads=24\n",
      "[LightGBM] [Warning] Unknown parameter: silent\n",
      "Training until validation scores don't improve for 200 rounds\n",
      "[200]\ttraining's multi_error: 0.00398936\tvalid_1's multi_error: 0.281437\n",
      "[400]\ttraining's multi_error: 0.000332447\tvalid_1's multi_error: 0.261976\n",
      "Early stopping, best iteration is:\n",
      "[379]\ttraining's multi_error: 0.000831117\tvalid_1's multi_error: 0.257485\n",
      "CPU times: total: 27min 51s\n",
      "Wall time: 1min 55s\n"
     ]
    }
   ],
   "source": [
    "%%time\n",
    "\n",
    "Y_pred,scores = lgb_model(X_train,Y_train,X_valid)"
   ]
  },
  {
   "cell_type": "code",
   "execution_count": 11,
   "id": "c1856db5-0ef0-4451-8a4f-b3357641795f",
   "metadata": {},
   "outputs": [
    {
     "name": "stdout",
     "output_type": "stream",
     "text": [
      "0.7248653500897666\n"
     ]
    }
   ],
   "source": [
    "pred = np.argmax(Y_pred, axis=1)\n",
    "print(accuracy_score(Y_valid,pred))\n",
    "# 在验证集上的表现，用于调整超参数"
   ]
  },
  {
   "cell_type": "code",
   "execution_count": 12,
   "id": "6fcd3a1f-be0b-457b-b84c-157510143477",
   "metadata": {
    "scrolled": true
   },
   "outputs": [
    {
     "name": "stdout",
     "output_type": "stream",
     "text": [
      "[LightGBM] [Warning] num_threads is set with nthread=24, will be overridden by n_jobs=24. Current value: num_threads=24\n",
      "[LightGBM] [Warning] Unknown parameter: silent\n",
      "Training until validation scores don't improve for 200 rounds\n"
     ]
    },
    {
     "name": "stderr",
     "output_type": "stream",
     "text": [
      "D:\\anaconda3\\Lib\\site-packages\\lightgbm\\engine.py:181: UserWarning: 'early_stopping_rounds' argument is deprecated and will be removed in a future release of LightGBM. Pass 'early_stopping()' callback via 'callbacks' argument instead.\n",
      "  _log_warning(\"'early_stopping_rounds' argument is deprecated and will be removed in a future release of LightGBM. \"\n",
      "D:\\anaconda3\\Lib\\site-packages\\lightgbm\\engine.py:240: UserWarning: 'verbose_eval' argument is deprecated and will be removed in a future release of LightGBM. Pass 'log_evaluation()' callback via 'callbacks' argument instead.\n",
      "  _log_warning(\"'verbose_eval' argument is deprecated and will be removed in a future release of LightGBM. \"\n",
      "D:\\anaconda3\\Lib\\site-packages\\lightgbm\\basic.py:1487: UserWarning: silent keyword has been found in `params` and will be ignored.\n",
      "Please use silent argument of the Dataset constructor to pass this parameter.\n",
      "  _log_warning(f'{key} keyword has been found in `params` and will be ignored.\\n'\n"
     ]
    },
    {
     "name": "stdout",
     "output_type": "stream",
     "text": [
      "[200]\ttraining's multi_error: 0.00361596\tvalid_1's multi_error: 0.253363\n",
      "[400]\ttraining's multi_error: 0.00074813\tvalid_1's multi_error: 0.238789\n",
      "[600]\ttraining's multi_error: 0.000374065\tvalid_1's multi_error: 0.234305\n",
      "[800]\ttraining's multi_error: 0.000124688\tvalid_1's multi_error: 0.230942\n",
      "[1000]\ttraining's multi_error: 0.000249377\tvalid_1's multi_error: 0.229821\n",
      "Early stopping, best iteration is:\n",
      "[853]\ttraining's multi_error: 0.000249377\tvalid_1's multi_error: 0.226457\n"
     ]
    },
    {
     "name": "stderr",
     "output_type": "stream",
     "text": [
      "D:\\anaconda3\\Lib\\site-packages\\lightgbm\\engine.py:181: UserWarning: 'early_stopping_rounds' argument is deprecated and will be removed in a future release of LightGBM. Pass 'early_stopping()' callback via 'callbacks' argument instead.\n",
      "  _log_warning(\"'early_stopping_rounds' argument is deprecated and will be removed in a future release of LightGBM. \"\n",
      "D:\\anaconda3\\Lib\\site-packages\\lightgbm\\engine.py:240: UserWarning: 'verbose_eval' argument is deprecated and will be removed in a future release of LightGBM. Pass 'log_evaluation()' callback via 'callbacks' argument instead.\n",
      "  _log_warning(\"'verbose_eval' argument is deprecated and will be removed in a future release of LightGBM. \"\n",
      "D:\\anaconda3\\Lib\\site-packages\\lightgbm\\basic.py:1487: UserWarning: silent keyword has been found in `params` and will be ignored.\n",
      "Please use silent argument of the Dataset constructor to pass this parameter.\n",
      "  _log_warning(f'{key} keyword has been found in `params` and will be ignored.\\n'\n"
     ]
    },
    {
     "name": "stdout",
     "output_type": "stream",
     "text": [
      "[LightGBM] [Warning] num_threads is set with nthread=24, will be overridden by n_jobs=24. Current value: num_threads=24\n",
      "[LightGBM] [Warning] Unknown parameter: silent\n",
      "Training until validation scores don't improve for 200 rounds\n",
      "[200]\ttraining's multi_error: 0.00411471\tvalid_1's multi_error: 0.238789\n",
      "[400]\ttraining's multi_error: 0.000872818\tvalid_1's multi_error: 0.2287\n",
      "[600]\ttraining's multi_error: 0.000623441\tvalid_1's multi_error: 0.224215\n",
      "Early stopping, best iteration is:\n",
      "[588]\ttraining's multi_error: 0.000623441\tvalid_1's multi_error: 0.223094\n"
     ]
    },
    {
     "name": "stderr",
     "output_type": "stream",
     "text": [
      "D:\\anaconda3\\Lib\\site-packages\\lightgbm\\engine.py:181: UserWarning: 'early_stopping_rounds' argument is deprecated and will be removed in a future release of LightGBM. Pass 'early_stopping()' callback via 'callbacks' argument instead.\n",
      "  _log_warning(\"'early_stopping_rounds' argument is deprecated and will be removed in a future release of LightGBM. \"\n",
      "D:\\anaconda3\\Lib\\site-packages\\lightgbm\\engine.py:240: UserWarning: 'verbose_eval' argument is deprecated and will be removed in a future release of LightGBM. Pass 'log_evaluation()' callback via 'callbacks' argument instead.\n",
      "  _log_warning(\"'verbose_eval' argument is deprecated and will be removed in a future release of LightGBM. \"\n",
      "D:\\anaconda3\\Lib\\site-packages\\lightgbm\\basic.py:1487: UserWarning: silent keyword has been found in `params` and will be ignored.\n",
      "Please use silent argument of the Dataset constructor to pass this parameter.\n",
      "  _log_warning(f'{key} keyword has been found in `params` and will be ignored.\\n'\n"
     ]
    },
    {
     "name": "stdout",
     "output_type": "stream",
     "text": [
      "[LightGBM] [Warning] num_threads is set with nthread=24, will be overridden by n_jobs=24. Current value: num_threads=24\n",
      "[LightGBM] [Warning] Unknown parameter: silent\n",
      "Training until validation scores don't improve for 200 rounds\n",
      "[200]\ttraining's multi_error: 0.00349084\tvalid_1's multi_error: 0.267116\n",
      "[400]\ttraining's multi_error: 0.000623364\tvalid_1's multi_error: 0.236813\n",
      "[600]\ttraining's multi_error: 0.000498691\tvalid_1's multi_error: 0.24018\n",
      "Early stopping, best iteration is:\n",
      "[529]\ttraining's multi_error: 0.000498691\tvalid_1's multi_error: 0.232323\n"
     ]
    },
    {
     "name": "stderr",
     "output_type": "stream",
     "text": [
      "D:\\anaconda3\\Lib\\site-packages\\lightgbm\\engine.py:181: UserWarning: 'early_stopping_rounds' argument is deprecated and will be removed in a future release of LightGBM. Pass 'early_stopping()' callback via 'callbacks' argument instead.\n",
      "  _log_warning(\"'early_stopping_rounds' argument is deprecated and will be removed in a future release of LightGBM. \"\n",
      "D:\\anaconda3\\Lib\\site-packages\\lightgbm\\engine.py:240: UserWarning: 'verbose_eval' argument is deprecated and will be removed in a future release of LightGBM. Pass 'log_evaluation()' callback via 'callbacks' argument instead.\n",
      "  _log_warning(\"'verbose_eval' argument is deprecated and will be removed in a future release of LightGBM. \"\n",
      "D:\\anaconda3\\Lib\\site-packages\\lightgbm\\basic.py:1487: UserWarning: silent keyword has been found in `params` and will be ignored.\n",
      "Please use silent argument of the Dataset constructor to pass this parameter.\n",
      "  _log_warning(f'{key} keyword has been found in `params` and will be ignored.\\n'\n"
     ]
    },
    {
     "name": "stdout",
     "output_type": "stream",
     "text": [
      "[LightGBM] [Warning] num_threads is set with nthread=24, will be overridden by n_jobs=24. Current value: num_threads=24\n",
      "[LightGBM] [Warning] Unknown parameter: silent\n",
      "Training until validation scores don't improve for 200 rounds\n",
      "[200]\ttraining's multi_error: 0.00336616\tvalid_1's multi_error: 0.264871\n",
      "[400]\ttraining's multi_error: 0.000997382\tvalid_1's multi_error: 0.250281\n",
      "[600]\ttraining's multi_error: 0.000374018\tvalid_1's multi_error: 0.244669\n",
      "[800]\ttraining's multi_error: 0.000249345\tvalid_1's multi_error: 0.241302\n",
      "Early stopping, best iteration is:\n",
      "[688]\ttraining's multi_error: 0.000249345\tvalid_1's multi_error: 0.24018\n"
     ]
    },
    {
     "name": "stderr",
     "output_type": "stream",
     "text": [
      "D:\\anaconda3\\Lib\\site-packages\\lightgbm\\engine.py:181: UserWarning: 'early_stopping_rounds' argument is deprecated and will be removed in a future release of LightGBM. Pass 'early_stopping()' callback via 'callbacks' argument instead.\n",
      "  _log_warning(\"'early_stopping_rounds' argument is deprecated and will be removed in a future release of LightGBM. \"\n",
      "D:\\anaconda3\\Lib\\site-packages\\lightgbm\\engine.py:240: UserWarning: 'verbose_eval' argument is deprecated and will be removed in a future release of LightGBM. Pass 'log_evaluation()' callback via 'callbacks' argument instead.\n",
      "  _log_warning(\"'verbose_eval' argument is deprecated and will be removed in a future release of LightGBM. \"\n",
      "D:\\anaconda3\\Lib\\site-packages\\lightgbm\\basic.py:1487: UserWarning: silent keyword has been found in `params` and will be ignored.\n",
      "Please use silent argument of the Dataset constructor to pass this parameter.\n",
      "  _log_warning(f'{key} keyword has been found in `params` and will be ignored.\\n'\n"
     ]
    },
    {
     "name": "stdout",
     "output_type": "stream",
     "text": [
      "[LightGBM] [Warning] num_threads is set with nthread=24, will be overridden by n_jobs=24. Current value: num_threads=24\n",
      "[LightGBM] [Warning] Unknown parameter: silent\n",
      "Training until validation scores don't improve for 200 rounds\n",
      "[200]\ttraining's multi_error: 0.00361551\tvalid_1's multi_error: 0.244669\n",
      "[400]\ttraining's multi_error: 0.000872709\tvalid_1's multi_error: 0.239057\n",
      "[600]\ttraining's multi_error: 0.000249345\tvalid_1's multi_error: 0.234568\n",
      "Early stopping, best iteration is:\n",
      "[447]\ttraining's multi_error: 0.000872709\tvalid_1's multi_error: 0.230079\n"
     ]
    },
    {
     "name": "stderr",
     "output_type": "stream",
     "text": [
      "D:\\anaconda3\\Lib\\site-packages\\lightgbm\\engine.py:181: UserWarning: 'early_stopping_rounds' argument is deprecated and will be removed in a future release of LightGBM. Pass 'early_stopping()' callback via 'callbacks' argument instead.\n",
      "  _log_warning(\"'early_stopping_rounds' argument is deprecated and will be removed in a future release of LightGBM. \"\n",
      "D:\\anaconda3\\Lib\\site-packages\\lightgbm\\engine.py:240: UserWarning: 'verbose_eval' argument is deprecated and will be removed in a future release of LightGBM. Pass 'log_evaluation()' callback via 'callbacks' argument instead.\n",
      "  _log_warning(\"'verbose_eval' argument is deprecated and will be removed in a future release of LightGBM. \"\n",
      "D:\\anaconda3\\Lib\\site-packages\\lightgbm\\basic.py:1487: UserWarning: silent keyword has been found in `params` and will be ignored.\n",
      "Please use silent argument of the Dataset constructor to pass this parameter.\n",
      "  _log_warning(f'{key} keyword has been found in `params` and will be ignored.\\n'\n"
     ]
    },
    {
     "name": "stdout",
     "output_type": "stream",
     "text": [
      "[LightGBM] [Warning] num_threads is set with nthread=24, will be overridden by n_jobs=24. Current value: num_threads=24\n",
      "[LightGBM] [Warning] Unknown parameter: silent\n",
      "Training until validation scores don't improve for 200 rounds\n",
      "[200]\ttraining's multi_error: 0.00349084\tvalid_1's multi_error: 0.242424\n",
      "[400]\ttraining's multi_error: 0.000872709\tvalid_1's multi_error: 0.224467\n",
      "[600]\ttraining's multi_error: 0.000374018\tvalid_1's multi_error: 0.225589\n",
      "Early stopping, best iteration is:\n",
      "[451]\ttraining's multi_error: 0.000623364\tvalid_1's multi_error: 0.216611\n"
     ]
    },
    {
     "name": "stderr",
     "output_type": "stream",
     "text": [
      "D:\\anaconda3\\Lib\\site-packages\\lightgbm\\engine.py:181: UserWarning: 'early_stopping_rounds' argument is deprecated and will be removed in a future release of LightGBM. Pass 'early_stopping()' callback via 'callbacks' argument instead.\n",
      "  _log_warning(\"'early_stopping_rounds' argument is deprecated and will be removed in a future release of LightGBM. \"\n",
      "D:\\anaconda3\\Lib\\site-packages\\lightgbm\\engine.py:240: UserWarning: 'verbose_eval' argument is deprecated and will be removed in a future release of LightGBM. Pass 'log_evaluation()' callback via 'callbacks' argument instead.\n",
      "  _log_warning(\"'verbose_eval' argument is deprecated and will be removed in a future release of LightGBM. \"\n",
      "D:\\anaconda3\\Lib\\site-packages\\lightgbm\\basic.py:1487: UserWarning: silent keyword has been found in `params` and will be ignored.\n",
      "Please use silent argument of the Dataset constructor to pass this parameter.\n",
      "  _log_warning(f'{key} keyword has been found in `params` and will be ignored.\\n'\n"
     ]
    },
    {
     "name": "stdout",
     "output_type": "stream",
     "text": [
      "[LightGBM] [Warning] num_threads is set with nthread=24, will be overridden by n_jobs=24. Current value: num_threads=24\n",
      "[LightGBM] [Warning] Unknown parameter: silent\n",
      "Training until validation scores don't improve for 200 rounds\n",
      "[200]\ttraining's multi_error: 0.00349084\tvalid_1's multi_error: 0.250281\n",
      "[400]\ttraining's multi_error: 0.000997382\tvalid_1's multi_error: 0.231201\n",
      "[600]\ttraining's multi_error: 0.000498691\tvalid_1's multi_error: 0.231201\n",
      "Early stopping, best iteration is:\n",
      "[425]\ttraining's multi_error: 0.000872709\tvalid_1's multi_error: 0.225589\n"
     ]
    },
    {
     "name": "stderr",
     "output_type": "stream",
     "text": [
      "D:\\anaconda3\\Lib\\site-packages\\lightgbm\\engine.py:181: UserWarning: 'early_stopping_rounds' argument is deprecated and will be removed in a future release of LightGBM. Pass 'early_stopping()' callback via 'callbacks' argument instead.\n",
      "  _log_warning(\"'early_stopping_rounds' argument is deprecated and will be removed in a future release of LightGBM. \"\n",
      "D:\\anaconda3\\Lib\\site-packages\\lightgbm\\engine.py:240: UserWarning: 'verbose_eval' argument is deprecated and will be removed in a future release of LightGBM. Pass 'log_evaluation()' callback via 'callbacks' argument instead.\n",
      "  _log_warning(\"'verbose_eval' argument is deprecated and will be removed in a future release of LightGBM. \"\n",
      "D:\\anaconda3\\Lib\\site-packages\\lightgbm\\basic.py:1487: UserWarning: silent keyword has been found in `params` and will be ignored.\n",
      "Please use silent argument of the Dataset constructor to pass this parameter.\n",
      "  _log_warning(f'{key} keyword has been found in `params` and will be ignored.\\n'\n"
     ]
    },
    {
     "name": "stdout",
     "output_type": "stream",
     "text": [
      "[LightGBM] [Warning] num_threads is set with nthread=24, will be overridden by n_jobs=24. Current value: num_threads=24\n",
      "[LightGBM] [Warning] Unknown parameter: silent\n",
      "Training until validation scores don't improve for 200 rounds\n",
      "[200]\ttraining's multi_error: 0.0027428\tvalid_1's multi_error: 0.253648\n",
      "[400]\ttraining's multi_error: 0.000623364\tvalid_1's multi_error: 0.246914\n",
      "[600]\ttraining's multi_error: 0.000374018\tvalid_1's multi_error: 0.244669\n",
      "Early stopping, best iteration is:\n",
      "[449]\ttraining's multi_error: 0.000498691\tvalid_1's multi_error: 0.242424\n"
     ]
    },
    {
     "name": "stderr",
     "output_type": "stream",
     "text": [
      "D:\\anaconda3\\Lib\\site-packages\\lightgbm\\engine.py:181: UserWarning: 'early_stopping_rounds' argument is deprecated and will be removed in a future release of LightGBM. Pass 'early_stopping()' callback via 'callbacks' argument instead.\n",
      "  _log_warning(\"'early_stopping_rounds' argument is deprecated and will be removed in a future release of LightGBM. \"\n",
      "D:\\anaconda3\\Lib\\site-packages\\lightgbm\\engine.py:240: UserWarning: 'verbose_eval' argument is deprecated and will be removed in a future release of LightGBM. Pass 'log_evaluation()' callback via 'callbacks' argument instead.\n",
      "  _log_warning(\"'verbose_eval' argument is deprecated and will be removed in a future release of LightGBM. \"\n",
      "D:\\anaconda3\\Lib\\site-packages\\lightgbm\\basic.py:1487: UserWarning: silent keyword has been found in `params` and will be ignored.\n",
      "Please use silent argument of the Dataset constructor to pass this parameter.\n",
      "  _log_warning(f'{key} keyword has been found in `params` and will be ignored.\\n'\n"
     ]
    },
    {
     "name": "stdout",
     "output_type": "stream",
     "text": [
      "[LightGBM] [Warning] num_threads is set with nthread=24, will be overridden by n_jobs=24. Current value: num_threads=24\n",
      "[LightGBM] [Warning] Unknown parameter: silent\n",
      "Training until validation scores don't improve for 200 rounds\n",
      "[200]\ttraining's multi_error: 0.0041142\tvalid_1's multi_error: 0.24018\n",
      "[400]\ttraining's multi_error: 0.000748036\tvalid_1's multi_error: 0.230079\n",
      "[600]\ttraining's multi_error: 0.000374018\tvalid_1's multi_error: 0.224467\n",
      "[800]\ttraining's multi_error: 0.000249345\tvalid_1's multi_error: 0.223345\n",
      "Early stopping, best iteration is:\n",
      "[660]\ttraining's multi_error: 0.000249345\tvalid_1's multi_error: 0.2211\n"
     ]
    },
    {
     "name": "stderr",
     "output_type": "stream",
     "text": [
      "D:\\anaconda3\\Lib\\site-packages\\lightgbm\\engine.py:181: UserWarning: 'early_stopping_rounds' argument is deprecated and will be removed in a future release of LightGBM. Pass 'early_stopping()' callback via 'callbacks' argument instead.\n",
      "  _log_warning(\"'early_stopping_rounds' argument is deprecated and will be removed in a future release of LightGBM. \"\n",
      "D:\\anaconda3\\Lib\\site-packages\\lightgbm\\engine.py:240: UserWarning: 'verbose_eval' argument is deprecated and will be removed in a future release of LightGBM. Pass 'log_evaluation()' callback via 'callbacks' argument instead.\n",
      "  _log_warning(\"'verbose_eval' argument is deprecated and will be removed in a future release of LightGBM. \"\n",
      "D:\\anaconda3\\Lib\\site-packages\\lightgbm\\basic.py:1487: UserWarning: silent keyword has been found in `params` and will be ignored.\n",
      "Please use silent argument of the Dataset constructor to pass this parameter.\n",
      "  _log_warning(f'{key} keyword has been found in `params` and will be ignored.\\n'\n"
     ]
    },
    {
     "name": "stdout",
     "output_type": "stream",
     "text": [
      "[LightGBM] [Warning] num_threads is set with nthread=24, will be overridden by n_jobs=24. Current value: num_threads=24\n",
      "[LightGBM] [Warning] Unknown parameter: silent\n",
      "Training until validation scores don't improve for 200 rounds\n",
      "[200]\ttraining's multi_error: 0.00336616\tvalid_1's multi_error: 0.255892\n",
      "[400]\ttraining's multi_error: 0.000748036\tvalid_1's multi_error: 0.243547\n",
      "[600]\ttraining's multi_error: 0.000249345\tvalid_1's multi_error: 0.24018\n",
      "[800]\ttraining's multi_error: 0.000249345\tvalid_1's multi_error: 0.231201\n",
      "Early stopping, best iteration is:\n",
      "[760]\ttraining's multi_error: 0.000249345\tvalid_1's multi_error: 0.231201\n",
      "CPU times: total: 45min 17s\n",
      "Wall time: 3min 4s\n"
     ]
    }
   ],
   "source": [
    "%%time\n",
    "\n",
    "lgb_pred,scores_2 = lgb_model(X_train_valid,Y_train_valid,X_test)"
   ]
  },
  {
   "cell_type": "code",
   "execution_count": 13,
   "id": "f6089b83-5090-4fd1-9dc5-12bac5efcb77",
   "metadata": {},
   "outputs": [
    {
     "name": "stdout",
     "output_type": "stream",
     "text": [
      "0.7921903052064632\n"
     ]
    }
   ],
   "source": [
    "lgb_score = accuracy_score(Y_test,np.argmax(lgb_pred,axis=1))\n",
    "print(lgb_score)\n",
    "# 合并训练集和验证集作为新的训练集，在测试集上测试准确率，用于作为最终模型和预测结果"
   ]
  },
  {
   "cell_type": "code",
   "execution_count": 14,
   "id": "898b5b01-c824-43eb-b403-6e43ad0c1fb2",
   "metadata": {},
   "outputs": [],
   "source": [
    "show(scores_2)"
   ]
  },
  {
   "cell_type": "code",
   "execution_count": 15,
   "id": "7ff098c9-d7f9-43d2-be6a-35d95c102d10",
   "metadata": {},
   "outputs": [
    {
     "data": {
      "text/plain": [
       "[0.773542600896861,\n",
       " 0.7769058295964125,\n",
       " 0.7676767676767676,\n",
       " 0.7598204264870931,\n",
       " 0.7699214365881033,\n",
       " 0.7833894500561167,\n",
       " 0.7744107744107744,\n",
       " 0.7575757575757576,\n",
       " 0.7789001122334456,\n",
       " 0.7687991021324355]"
      ]
     },
     "execution_count": 15,
     "metadata": {},
     "output_type": "execute_result"
    }
   ],
   "source": [
    "scores_2"
   ]
  },
  {
   "cell_type": "code",
   "execution_count": 16,
   "id": "6bc1f1b2-a8a5-4def-8341-f331df5af322",
   "metadata": {},
   "outputs": [
    {
     "name": "stdout",
     "output_type": "stream",
     "text": [
      "                precision    recall  f1-score   support\n",
      "\n",
      "          aloe     0.7064    0.7064    0.7064       109\n",
      "        burger     0.7350    0.7227    0.7288       119\n",
      "       cabbage     0.8269    0.8600    0.8431       100\n",
      "candied_fruits     0.8261    0.9441    0.8812       161\n",
      "       carrots     0.8525    0.7879    0.8189       132\n",
      "         chips     0.8408    0.9167    0.8771       144\n",
      "     chocolate     0.7045    0.5345    0.6078        58\n",
      "        drinks     0.8868    0.8103    0.8468        58\n",
      "         fries     0.8333    0.8140    0.8235       129\n",
      "        grapes     0.7857    0.8534    0.8182       116\n",
      "       gummies     0.7378    0.8897    0.8067       136\n",
      "     ice-cream     0.8456    0.8690    0.8571       145\n",
      "         jelly     0.6623    0.5795    0.6182        88\n",
      "       noodles     0.6582    0.6341    0.6460        82\n",
      "       pickles     0.8663    0.8563    0.8613       174\n",
      "         pizza     0.8286    0.7131    0.7665       122\n",
      "          ribs     0.7640    0.6939    0.7273        98\n",
      "        salmon     0.7835    0.7600    0.7716       100\n",
      "          soup     0.7213    0.7857    0.7521        56\n",
      "         wings     0.7742    0.7129    0.7423       101\n",
      "\n",
      "      accuracy                         0.7922      2228\n",
      "     macro avg     0.7820    0.7722    0.7750      2228\n",
      "  weighted avg     0.7915    0.7922    0.7900      2228\n",
      "\n"
     ]
    }
   ],
   "source": [
    "# 分类报告\n",
    "labels = ['aloe', 'burger', 'cabbage','candied_fruits', 'carrots', 'chips',\n",
    "                  'chocolate', 'drinks', 'fries', 'grapes', 'gummies', 'ice-cream',\n",
    "                  'jelly', 'noodles', 'pickles', 'pizza', 'ribs', 'salmon',\n",
    "                  'soup', 'wings']\n",
    "print(classification_report(Y_test, np.argmax(lgb_pred,axis=1),target_names=labels,digits=4))"
   ]
  },
  {
   "cell_type": "markdown",
   "id": "07b0a2f9-6e4d-4687-af12-0bcf504b8912",
   "metadata": {},
   "source": [
    "## GaussianNB"
   ]
  },
  {
   "cell_type": "code",
   "execution_count": 17,
   "id": "cedc7e23-37c5-4ad5-a32b-ccd7c5fb6701",
   "metadata": {},
   "outputs": [
    {
     "data": {
      "text/plain": [
       "0.16741472172351884"
      ]
     },
     "execution_count": 17,
     "metadata": {},
     "output_type": "execute_result"
    }
   ],
   "source": [
    "gnb=GaussianNB()\n",
    "gnb_model=gnb.fit(X_train_valid,Y_train_valid)\n",
    "gnb_score = gnb_model.score(X_test,Y_test)\n",
    "gnb_score"
   ]
  },
  {
   "cell_type": "markdown",
   "id": "a20b2023-7a59-4c92-a00a-bd04b3c5f43e",
   "metadata": {},
   "source": [
    "## RandomForest"
   ]
  },
  {
   "cell_type": "code",
   "execution_count": 18,
   "id": "bc3491c9-d2f6-4835-b65d-964219cf8d88",
   "metadata": {},
   "outputs": [
    {
     "data": {
      "text/plain": [
       "0.7477558348294434"
      ]
     },
     "execution_count": 18,
     "metadata": {},
     "output_type": "execute_result"
    }
   ],
   "source": [
    "rfc=RandomForestClassifier(n_estimators=1200)\n",
    "rfc_model=rfc.fit(X_train_valid,Y_train_valid)\n",
    "rfc_score = rfc_model.score(X_test,Y_test)\n",
    "rfc_score"
   ]
  },
  {
   "cell_type": "markdown",
   "id": "ce1fe655-7ff1-4a87-96be-71af32702777",
   "metadata": {},
   "source": [
    "## AdaBoost"
   ]
  },
  {
   "cell_type": "code",
   "execution_count": 19,
   "id": "bd2fad13-a9ea-4dac-8dc5-7dc43368becc",
   "metadata": {},
   "outputs": [
    {
     "data": {
      "text/plain": [
       "0.20062836624775585"
      ]
     },
     "execution_count": 19,
     "metadata": {},
     "output_type": "execute_result"
    }
   ],
   "source": [
    "adc=AdaBoostClassifier(n_estimators=50)\n",
    "adc_model=adc.fit(X_train_valid,Y_train_valid)\n",
    "adc_score = adc_model.score(X_test,Y_test)\n",
    "adc_score"
   ]
  },
  {
   "cell_type": "markdown",
   "id": "6a9823a4-1cc1-4719-b2d6-4e75d2fb0f7e",
   "metadata": {},
   "source": [
    "## SVC"
   ]
  },
  {
   "cell_type": "code",
   "execution_count": 20,
   "id": "954eab4f-5db4-4d6e-b4bc-dddaa82df3df",
   "metadata": {},
   "outputs": [
    {
     "data": {
      "text/plain": [
       "0.3779174147217235"
      ]
     },
     "execution_count": 20,
     "metadata": {},
     "output_type": "execute_result"
    }
   ],
   "source": [
    "#支持向量机\n",
    "svc = SVC()\n",
    "svc_model=svc.fit(X_train_valid,Y_train_valid)\n",
    "svc_score = svc_model.score(X_test,Y_test)\n",
    "svc_score"
   ]
  },
  {
   "cell_type": "markdown",
   "id": "b2531431-c6f0-4888-930f-1c46c1a7c532",
   "metadata": {},
   "source": [
    "## Knn"
   ]
  },
  {
   "cell_type": "code",
   "execution_count": 21,
   "id": "1c0ef8eb-5721-43cb-9d1b-991e9db9d41a",
   "metadata": {},
   "outputs": [
    {
     "data": {
      "text/plain": [
       "0.5264811490125674"
      ]
     },
     "execution_count": 21,
     "metadata": {},
     "output_type": "execute_result"
    }
   ],
   "source": [
    "knc = KNeighborsClassifier(n_neighbors=5)\n",
    "knc_model=knc.fit(X_train_valid,Y_train_valid)\n",
    "knc_score = knc_model.score(X_test,Y_test)\n",
    "knc_score"
   ]
  },
  {
   "cell_type": "code",
   "execution_count": 22,
   "id": "5bfba410-7cdb-4ba9-97fb-59f0f4dee7c5",
   "metadata": {},
   "outputs": [
    {
     "data": {
      "text/plain": [
       "0.31867145421903054"
      ]
     },
     "execution_count": 22,
     "metadata": {},
     "output_type": "execute_result"
    }
   ],
   "source": [
    "lda = LinearDiscriminantAnalysis(solver='svd')\n",
    "lda_model=lda.fit(X_train_valid,Y_train_valid)\n",
    "lda_score = lda_model.score(X_test,Y_test)\n",
    "lda_score"
   ]
  },
  {
   "cell_type": "markdown",
   "id": "4c86a770-570b-41a2-bc8f-064a25167a12",
   "metadata": {},
   "source": [
    "## 保存结果"
   ]
  },
  {
   "cell_type": "code",
   "execution_count": 23,
   "id": "e07ceed0-209b-4031-a8b3-e2cebc63ab3f",
   "metadata": {},
   "outputs": [],
   "source": [
    "# 从准确率上看，将随机森林模型的预测结果保存\n",
    "rfc_pred = rfc_model.predict_proba(X_test)\n",
    "scores = [lgb_score,gnb_score,rfc_score,adc_score,svc_score,knc_score,lda_score]"
   ]
  },
  {
   "cell_type": "code",
   "execution_count": 24,
   "id": "e76d3bdb-bf6f-4bf5-a99c-56647038a46c",
   "metadata": {},
   "outputs": [],
   "source": [
    "np.save(\"lgb_pred.npy\",lgb_pred)\n",
    "np.save(\"rfc_pred.npy\",rfc_pred)"
   ]
  },
  {
   "cell_type": "code",
   "execution_count": 25,
   "id": "5f8ebcdc-0aac-4704-ab74-a11e8070ee4c",
   "metadata": {},
   "outputs": [],
   "source": [
    "with open(\"model_scores.txt\",\"w\",encoding=\"utf-8\") as f:\n",
    "    for score in scores:\n",
    "        f.write(str(score) + \"\\t\")"
   ]
  },
  {
   "cell_type": "code",
   "execution_count": null,
   "id": "511afecf-200d-4642-8a35-4170e3fcba1b",
   "metadata": {},
   "outputs": [],
   "source": []
  }
 ],
 "metadata": {
  "kernelspec": {
   "display_name": "Python [conda env:root] *",
   "language": "python",
   "name": "conda-root-py"
  },
  "language_info": {
   "codemirror_mode": {
    "name": "ipython",
    "version": 3
   },
   "file_extension": ".py",
   "mimetype": "text/x-python",
   "name": "python",
   "nbconvert_exporter": "python",
   "pygments_lexer": "ipython3",
   "version": "3.11.5"
  }
 },
 "nbformat": 4,
 "nbformat_minor": 5
}
