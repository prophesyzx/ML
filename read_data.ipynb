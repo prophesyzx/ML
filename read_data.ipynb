{
 "cells": [
  {
   "cell_type": "code",
   "execution_count": 1,
   "id": "3e01762d-2920-4735-b2dc-720d77b4b46d",
   "metadata": {},
   "outputs": [],
   "source": [
    "from tqdm import tqdm\n",
    "import resampy\n",
    "import os\n",
    "import sklearn.preprocessing\n",
    "#基本库\n",
    "import pandas as pd\n",
    "import numpy as np\n",
    "pd.plotting.register_matplotlib_converters()\n",
    "import matplotlib.pyplot as plt\n",
    "%matplotlib inline\n",
    "import seaborn as sns\n",
    "from sklearn.model_selection import train_test_split\n",
    "from sklearn.metrics import classification_report\n",
    "from sklearn.model_selection import GridSearchCV\n",
    "from sklearn.preprocessing import MinMaxScaler\n",
    "\n",
    "#深度学习框架\n",
    "from tensorflow.keras.models import Sequential\n",
    "from tensorflow.keras.layers import Conv2D, Flatten, Dense, MaxPool2D, Dropout\n",
    "from tensorflow.keras.utils import to_categorical \n",
    "from sklearn.ensemble import RandomForestClassifier\n",
    "from sklearn.svm import SVC\n",
    "import tensorflow as tf\n",
    "import tensorflow.keras\n",
    "\n",
    "#音频处理库\n",
    "import os\n",
    "import librosa\n",
    "import librosa.display\n",
    "import glob "
   ]
  },
  {
   "cell_type": "code",
   "execution_count": 2,
   "id": "ebb58396-6f70-4b74-a512-66c8d107db14",
   "metadata": {},
   "outputs": [],
   "source": [
    "# 建立类别标签，不同类别对应不同的数字。\n",
    "label_dict = {'aloe': 0, 'burger': 1, 'cabbage': 2,'candied_fruits':3, 'carrots': 4, 'chips':5,\n",
    "                  'chocolate': 6, 'drinks': 7, 'fries': 8, 'grapes': 9, 'gummies': 10, 'ice-cream':11,\n",
    "                  'jelly': 12, 'noodles': 13, 'pickles': 14, 'pizza': 15, 'ribs': 16, 'salmon':17,\n",
    "                  'soup': 18, 'wings': 19}\n",
    "label_dict_inv = {v:k for k,v in label_dict.items()}"
   ]
  },
  {
   "cell_type": "code",
   "execution_count": 3,
   "id": "75b040e4-fd94-4f7b-b5ef-35f228517f3b",
   "metadata": {},
   "outputs": [],
   "source": [
    "#指定文件路径\n",
    "folders=os.listdir('clips_rd')"
   ]
  },
  {
   "cell_type": "code",
   "execution_count": 4,
   "id": "12b0e60d-7eb6-43a5-9911-3c28415f6594",
   "metadata": {},
   "outputs": [
    {
     "name": "stderr",
     "output_type": "stream",
     "text": [
      "100%|████████████████████████████████████████████████████████████████████████████████| 546/546 [00:13<00:00, 39.24it/s]\n",
      "100%|████████████████████████████████████████████████████████████████████████████████| 595/595 [00:12<00:00, 46.41it/s]\n",
      "100%|████████████████████████████████████████████████████████████████████████████████| 499/499 [00:20<00:00, 23.90it/s]\n",
      "100%|████████████████████████████████████████████████████████████████████████████████| 806/806 [00:32<00:00, 24.63it/s]\n",
      "100%|████████████████████████████████████████████████████████████████████████████████| 660/660 [00:22<00:00, 29.48it/s]\n",
      "100%|████████████████████████████████████████████████████████████████████████████████| 719/719 [00:24<00:00, 29.50it/s]\n",
      "100%|████████████████████████████████████████████████████████████████████████████████| 290/290 [00:09<00:00, 29.99it/s]\n",
      "100%|████████████████████████████████████████████████████████████████████████████████| 292/292 [00:08<00:00, 33.89it/s]\n",
      "100%|████████████████████████████████████████████████████████████████████████████████| 644/644 [00:19<00:00, 32.21it/s]\n",
      "100%|████████████████████████████████████████████████████████████████████████████████| 579/579 [00:19<00:00, 30.41it/s]\n",
      "100%|████████████████████████████████████████████████████████████████████████████████| 678/678 [00:23<00:00, 28.73it/s]\n",
      "100%|████████████████████████████████████████████████████████████████████████████████| 727/727 [00:26<00:00, 27.25it/s]\n",
      "100%|████████████████████████████████████████████████████████████████████████████████| 442/442 [00:14<00:00, 31.28it/s]\n",
      "100%|████████████████████████████████████████████████████████████████████████████████| 411/411 [00:12<00:00, 34.01it/s]\n",
      "100%|████████████████████████████████████████████████████████████████████████████████| 872/872 [00:30<00:00, 28.39it/s]\n",
      "100%|████████████████████████████████████████████████████████████████████████████████| 609/609 [00:24<00:00, 25.10it/s]\n",
      "100%|████████████████████████████████████████████████████████████████████████████████| 488/488 [00:16<00:00, 29.00it/s]\n",
      "100%|████████████████████████████████████████████████████████████████████████████████| 501/501 [00:18<00:00, 26.55it/s]\n",
      "100%|████████████████████████████████████████████████████████████████████████████████| 278/278 [00:06<00:00, 41.45it/s]\n",
      "100%|████████████████████████████████████████████████████████████████████████████████| 504/504 [00:18<00:00, 27.42it/s]"
     ]
    },
    {
     "name": "stdout",
     "output_type": "stream",
     "text": [
      "CPU times: total: 49min 36s\n",
      "Wall time: 6min 16s\n"
     ]
    },
    {
     "name": "stderr",
     "output_type": "stream",
     "text": [
      "\n"
     ]
    }
   ],
   "source": [
    "%%time\n",
    "\n",
    "#遍历文件并提取数据\n",
    "mel_feature = []\n",
    "label = []\n",
    "for folder in folders:\n",
    "    file_list=os.listdir('clips_rd/'+folder)\n",
    "    label.extend([label_dict[folder]]*len(file_list))\n",
    "    for audio in tqdm(file_list):\n",
    "        path='clips_rd/'+folder+'/'+audio\n",
    "        x,sr=librosa.load(path,res_type='kaiser_fast')\n",
    "        mels = np.mean(librosa.feature.melspectrogram(y=x,sr=sr).T,axis=0)\n",
    "        mel_feature.extend([mels])"
   ]
  },
  {
   "cell_type": "code",
   "execution_count": 17,
   "id": "3a7b7b72-33ed-48fe-a3ed-ddf272da78b9",
   "metadata": {},
   "outputs": [],
   "source": [
    "X=np.array(mel_feature)\n",
    "Y=np.array(label)"
   ]
  },
  {
   "cell_type": "code",
   "execution_count": 18,
   "id": "0b4b742c-feea-4207-95cc-d96df89e3e75",
   "metadata": {},
   "outputs": [
    {
     "name": "stderr",
     "output_type": "stream",
     "text": [
      "D:\\anaconda3\\Lib\\site-packages\\sklearn\\preprocessing\\_data.py:240: UserWarning: Numerical issues were encountered when centering the data and might not be solved. Dataset may contain too large values. You may need to prescale your features.\n",
      "  warnings.warn(\n",
      "D:\\anaconda3\\Lib\\site-packages\\sklearn\\preprocessing\\_data.py:259: UserWarning: Numerical issues were encountered when scaling the data and might not be solved. The standard deviation of the data is probably very close to 0. \n",
      "  warnings.warn(\n"
     ]
    }
   ],
   "source": [
    "X=sklearn.preprocessing.scale(X,axis=0)"
   ]
  },
  {
   "cell_type": "code",
   "execution_count": 19,
   "id": "b00e9575-1ec3-422e-b4c3-fb0be83ae8ec",
   "metadata": {},
   "outputs": [
    {
     "data": {
      "text/plain": [
       "(11140, 128)"
      ]
     },
     "execution_count": 19,
     "metadata": {},
     "output_type": "execute_result"
    }
   ],
   "source": [
    "X.shape"
   ]
  },
  {
   "cell_type": "code",
   "execution_count": 20,
   "id": "35135d7e-b2df-4604-94a2-5df2cde0671c",
   "metadata": {},
   "outputs": [
    {
     "data": {
      "text/plain": [
       "(11140,)"
      ]
     },
     "execution_count": 20,
     "metadata": {},
     "output_type": "execute_result"
    }
   ],
   "source": [
    "Y.shape"
   ]
  },
  {
   "cell_type": "code",
   "execution_count": 21,
   "id": "f21631b9-aea6-4e1d-b0c8-a81bec306067",
   "metadata": {},
   "outputs": [],
   "source": [
    "np.save(\"X.npy\",X)\n",
    "np.save(\"Y.npy\",Y)"
   ]
  },
  {
   "cell_type": "code",
   "execution_count": null,
   "id": "0b60b7d5-fe15-4492-b33a-ae529b804ee1",
   "metadata": {},
   "outputs": [],
   "source": []
  },
  {
   "cell_type": "code",
   "execution_count": null,
   "id": "1c97bee4-7b16-4b2d-84fc-0c85f34513d4",
   "metadata": {},
   "outputs": [],
   "source": []
  },
  {
   "cell_type": "code",
   "execution_count": null,
   "id": "8c802695-dae2-413a-99cb-05655764acdc",
   "metadata": {},
   "outputs": [],
   "source": []
  }
 ],
 "metadata": {
  "kernelspec": {
   "display_name": "Python [conda env:root] *",
   "language": "python",
   "name": "conda-root-py"
  },
  "language_info": {
   "codemirror_mode": {
    "name": "ipython",
    "version": 3
   },
   "file_extension": ".py",
   "mimetype": "text/x-python",
   "name": "python",
   "nbconvert_exporter": "python",
   "pygments_lexer": "ipython3",
   "version": "3.11.5"
  }
 },
 "nbformat": 4,
 "nbformat_minor": 5
}
